{
 "cells": [
  {
   "cell_type": "markdown",
   "id": "f1923780-20db-4dd8-a9a8-fd2b2cb87b33",
   "metadata": {},
   "source": [
    "## Step 1: Import Libraries and Load Data"
   ]
  },
  {
   "cell_type": "code",
   "execution_count": 1,
   "id": "e011ef9f-10d0-419b-8c9b-9deae4028d3b",
   "metadata": {},
   "outputs": [
    {
     "name": "stderr",
     "output_type": "stream",
     "text": [
      "Matplotlib is building the font cache; this may take a moment.\n"
     ]
    }
   ],
   "source": [
    "import pandas as pd\n",
    "import numpy as np\n",
    "import matplotlib.pyplot as plt\n",
    "%matplotlib inline\n",
    "\n",
    "# Load the dataset\n",
    "df = pd.read_csv('movie_metadata.csv')"
   ]
  },
  {
   "cell_type": "markdown",
   "id": "29e89d20-ed5d-4051-b606-b29f392c9849",
   "metadata": {},
   "source": [
    "## Step 2: Initial Exploration"
   ]
  },
  {
   "cell_type": "code",
   "execution_count": 2,
   "id": "66fbd876-37f8-43fc-981f-1f33ecff706c",
   "metadata": {},
   "outputs": [
    {
     "name": "stdout",
     "output_type": "stream",
     "text": [
      "<class 'pandas.core.frame.DataFrame'>\n",
      "RangeIndex: 5043 entries, 0 to 5042\n",
      "Data columns (total 28 columns):\n",
      " #   Column                     Non-Null Count  Dtype  \n",
      "---  ------                     --------------  -----  \n",
      " 0   color                      5024 non-null   object \n",
      " 1   director_name              4939 non-null   object \n",
      " 2   num_critic_for_reviews     4993 non-null   float64\n",
      " 3   duration                   5028 non-null   float64\n",
      " 4   director_facebook_likes    4939 non-null   float64\n",
      " 5   actor_3_facebook_likes     5020 non-null   float64\n",
      " 6   actor_2_name               5030 non-null   object \n",
      " 7   actor_1_facebook_likes     5036 non-null   float64\n",
      " 8   gross                      4159 non-null   float64\n",
      " 9   genres                     5043 non-null   object \n",
      " 10  actor_1_name               5036 non-null   object \n",
      " 11  movie_title                5043 non-null   object \n",
      " 12  num_voted_users            5043 non-null   int64  \n",
      " 13  cast_total_facebook_likes  5043 non-null   int64  \n",
      " 14  actor_3_name               5020 non-null   object \n",
      " 15  facenumber_in_poster       5030 non-null   float64\n",
      " 16  plot_keywords              4890 non-null   object \n",
      " 17  movie_imdb_link            5043 non-null   object \n",
      " 18  num_user_for_reviews       5022 non-null   float64\n",
      " 19  language                   5029 non-null   object \n",
      " 20  country                    5038 non-null   object \n",
      " 21  content_rating             4740 non-null   object \n",
      " 22  budget                     4551 non-null   float64\n",
      " 23  title_year                 4935 non-null   float64\n",
      " 24  actor_2_facebook_likes     5030 non-null   float64\n",
      " 25  imdb_score                 5043 non-null   float64\n",
      " 26  aspect_ratio               4714 non-null   float64\n",
      " 27  movie_facebook_likes       5043 non-null   int64  \n",
      "dtypes: float64(13), int64(3), object(12)\n",
      "memory usage: 1.1+ MB\n",
      "None\n"
     ]
    },
    {
     "data": {
      "text/plain": [
       "color                         19\n",
       "director_name                104\n",
       "num_critic_for_reviews        50\n",
       "duration                      15\n",
       "director_facebook_likes      104\n",
       "actor_3_facebook_likes        23\n",
       "actor_2_name                  13\n",
       "actor_1_facebook_likes         7\n",
       "gross                        884\n",
       "genres                         0\n",
       "actor_1_name                   7\n",
       "movie_title                    0\n",
       "num_voted_users                0\n",
       "cast_total_facebook_likes      0\n",
       "actor_3_name                  23\n",
       "facenumber_in_poster          13\n",
       "plot_keywords                153\n",
       "movie_imdb_link                0\n",
       "num_user_for_reviews          21\n",
       "language                      14\n",
       "country                        5\n",
       "content_rating               303\n",
       "budget                       492\n",
       "title_year                   108\n",
       "actor_2_facebook_likes        13\n",
       "imdb_score                     0\n",
       "aspect_ratio                 329\n",
       "movie_facebook_likes           0\n",
       "dtype: int64"
      ]
     },
     "execution_count": 2,
     "metadata": {},
     "output_type": "execute_result"
    }
   ],
   "source": [
    "# Display basic info\n",
    "print(df.info())\n",
    "\n",
    "# Show first few rows\n",
    "df.head()\n",
    "\n",
    "# Check for missing values\n",
    "df.isnull().sum()"
   ]
  },
  {
   "cell_type": "markdown",
   "id": "c8725395-0b57-48c9-96d0-16a8429b455d",
   "metadata": {},
   "source": [
    "## Step 3: Data Cleaning"
   ]
  },
  {
   "cell_type": "markdown",
   "id": "95754037-1244-46cb-afde-b8b3fbd1c135",
   "metadata": {},
   "source": [
    "#### Handle Missing Values"
   ]
  },
  {
   "cell_type": "code",
   "execution_count": 3,
   "id": "4cf18ea8-c15a-481a-96c2-fe9950622024",
   "metadata": {},
   "outputs": [],
   "source": [
    "# Drop rows with too many missing values (like the Doug Walker entry)\n",
    "df = df.dropna(thresh=20)  # Keep rows with at least 20 non-NA values\n",
    "\n",
    "# Fill missing numerical values with median\n",
    "num_cols = df.select_dtypes(include=['int64', 'float64']).columns\n",
    "for col in num_cols:\n",
    "    df[col] = df[col].fillna(df[col].median())\n",
    "\n",
    "# Fill missing categorical values with mode\n",
    "cat_cols = df.select_dtypes(include=['object']).columns\n",
    "for col in cat_cols:\n",
    "    df[col] = df[col].fillna(df[col].mode()[0])"
   ]
  },
  {
   "cell_type": "markdown",
   "id": "6e441237-f839-40e4-8f0a-00dc5d196282",
   "metadata": {},
   "source": [
    "#### Clean Specific Columns"
   ]
  },
  {
   "cell_type": "code",
   "execution_count": 4,
   "id": "061bab84-67d5-4c9b-bb8c-b6ec48aeb31c",
   "metadata": {},
   "outputs": [],
   "source": [
    "# Clean movie_title column (remove trailing spaces and special characters)\n",
    "df['movie_title'] = df['movie_title'].str.strip()\n",
    "df['movie_title'] = df['movie_title'].str.replace(' ', '')\n",
    "\n",
    "# Clean color column\n",
    "df['color'] = df['color'].replace({'Color': 'color', ' Black and White': 'black_and_white'})\n",
    "df['color'] = df['color'].fillna('color')\n",
    "\n",
    "# Clean genres column (split into multiple columns if needed)\n",
    "df['genres'] = df['genres'].str.replace('|', ', ')\n",
    "\n",
    "# Clean country column (standardize country names)\n",
    "df['country'] = df['country'].str.upper()"
   ]
  },
  {
   "cell_type": "markdown",
   "id": "bf7fb1f7-e1e9-4fe2-8bd3-96ea9f799df4",
   "metadata": {},
   "source": [
    "#### Handle Duplicates"
   ]
  },
  {
   "cell_type": "code",
   "execution_count": 5,
   "id": "d66372a5-89eb-4ea8-b863-d67cb75501a9",
   "metadata": {},
   "outputs": [
    {
     "name": "stdout",
     "output_type": "stream",
     "text": [
      "Duplicate movie titles: 127\n"
     ]
    }
   ],
   "source": [
    "# Check for duplicate movie titles\n",
    "print(f\"Duplicate movie titles: {df.duplicated(subset=['movie_title']).sum()}\")\n",
    "\n",
    "# Drop duplicates keeping the first occurrence\n",
    "df = df.drop_duplicates(subset=['movie_title'], keep='first')"
   ]
  },
  {
   "cell_type": "markdown",
   "id": "6783c877-5857-4eda-931f-e8b55d5e407b",
   "metadata": {},
   "source": [
    "#### Convert Data Types"
   ]
  },
  {
   "cell_type": "code",
   "execution_count": 6,
   "id": "15e104fd-060b-40ee-bb18-5da15a189849",
   "metadata": {},
   "outputs": [],
   "source": [
    "# Convert budget and gross to numeric (remove commas, handle missing values)\n",
    "df['budget'] = pd.to_numeric(df['budget'], errors='coerce')\n",
    "df['gross'] = pd.to_numeric(df['gross'], errors='coerce')\n",
    "\n",
    "# Convert title_year to integer\n",
    "df['title_year'] = df['title_year'].fillna(0).astype(int)\n",
    "df['title_year'] = df['title_year'].replace(0, np.nan)"
   ]
  },
  {
   "cell_type": "markdown",
   "id": "095dd43c-ed4b-40dd-928f-06b0bf78d923",
   "metadata": {},
   "source": [
    "#### Create New Features"
   ]
  },
  {
   "cell_type": "code",
   "execution_count": 7,
   "id": "098351be-b7a5-429d-8900-49bb4b9aebbb",
   "metadata": {},
   "outputs": [],
   "source": [
    "# Calculate profit\n",
    "df['profit'] = df['gross'] - df['budget']\n",
    "\n",
    "# Calculate return on investment (ROI)\n",
    "df['roi'] = (df['profit'] / df['budget']) * 100\n",
    "\n",
    "# Extract first genre as main_genre\n",
    "df['main_genre'] = df['genres'].str.split(',').str[0]"
   ]
  },
  {
   "cell_type": "markdown",
   "id": "db994ddd-529f-4802-93c9-89a9dc6fc3e6",
   "metadata": {},
   "source": [
    "## Step 4: Outlier Detection and Handling"
   ]
  },
  {
   "cell_type": "code",
   "execution_count": 9,
   "id": "7c3cdd30-dd3f-4617-a6bc-c5904eb3a707",
   "metadata": {},
   "outputs": [
    {
     "data": {
      "image/png": "[encoded data removed]",
      "text/plain": [
       "<Figure size 640x480 with 1 Axes>"
      ]
     },
     "metadata": {},
     "output_type": "display_data"
    }
   ],
   "source": [
    "# Visualize numerical columns for outliers\n",
    "df[['budget', 'gross', 'imdb_score']].boxplot()\n",
    "plt.xticks(rotation=45)\n",
    "plt.show()\n",
    "\n",
    "# Handle outliers (cap extreme values)\n",
    "cols_to_cap = ['budget', 'gross', 'duration']\n",
    "for col in cols_to_cap:\n",
    "    q1 = df[col].quantile(0.25)\n",
    "    q3 = df[col].quantile(0.75)\n",
    "    iqr = q3 - q1\n",
    "    lower_bound = q1 - 1.5*iqr\n",
    "    upper_bound = q3 + 1.5*iqr\n",
    "    df[col] = np.where(df[col] < lower_bound, lower_bound, \n",
    "                      np.where(df[col] > upper_bound, upper_bound, df[col]))"
   ]
  },
  {
   "cell_type": "markdown",
   "id": "bc0d679c-0271-42d6-9443-06f6135ab01d",
   "metadata": {},
   "source": [
    "## Step 5: Final Checks and Save Clean Data"
   ]
  },
  {
   "cell_type": "code",
   "execution_count": 10,
   "id": "04305f3b-4786-40b5-b86c-f719d7173018",
   "metadata": {},
   "outputs": [
    {
     "name": "stdout",
     "output_type": "stream",
     "text": [
      "<class 'pandas.core.frame.DataFrame'>\n",
      "Index: 4909 entries, 0 to 5042\n",
      "Data columns (total 31 columns):\n",
      " #   Column                     Non-Null Count  Dtype  \n",
      "---  ------                     --------------  -----  \n",
      " 0   color                      4909 non-null   object \n",
      " 1   director_name              4909 non-null   object \n",
      " 2   num_critic_for_reviews     4909 non-null   float64\n",
      " 3   duration                   4909 non-null   float64\n",
      " 4   director_facebook_likes    4909 non-null   float64\n",
      " 5   actor_3_facebook_likes     4909 non-null   float64\n",
      " 6   actor_2_name               4909 non-null   object \n",
      " 7   actor_1_facebook_likes     4909 non-null   float64\n",
      " 8   gross                      4909 non-null   float64\n",
      " 9   genres                     4909 non-null   object \n",
      " 10  actor_1_name               4909 non-null   object \n",
      " 11  movie_title                4909 non-null   object \n",
      " 12  num_voted_users            4909 non-null   int64  \n",
      " 13  cast_total_facebook_likes  4909 non-null   int64  \n",
      " 14  actor_3_name               4909 non-null   object \n",
      " 15  facenumber_in_poster       4909 non-null   float64\n",
      " 16  plot_keywords              4909 non-null   object \n",
      " 17  movie_imdb_link            4909 non-null   object \n",
      " 18  num_user_for_reviews       4909 non-null   float64\n",
      " 19  language                   4909 non-null   object \n",
      " 20  country                    4909 non-null   object \n",
      " 21  content_rating             4909 non-null   object \n",
      " 22  budget                     4909 non-null   float64\n",
      " 23  title_year                 4909 non-null   int32  \n",
      " 24  actor_2_facebook_likes     4909 non-null   float64\n",
      " 25  imdb_score                 4909 non-null   float64\n",
      " 26  aspect_ratio               4909 non-null   float64\n",
      " 27  movie_facebook_likes       4909 non-null   int64  \n",
      " 28  profit                     4909 non-null   float64\n",
      " 29  roi                        4909 non-null   float64\n",
      " 30  main_genre                 4909 non-null   object \n",
      "dtypes: float64(14), int32(1), int64(3), object(13)\n",
      "memory usage: 1.2+ MB\n",
      "None\n",
      "color                        0\n",
      "director_name                0\n",
      "num_critic_for_reviews       0\n",
      "duration                     0\n",
      "director_facebook_likes      0\n",
      "actor_3_facebook_likes       0\n",
      "actor_2_name                 0\n",
      "actor_1_facebook_likes       0\n",
      "gross                        0\n",
      "genres                       0\n",
      "actor_1_name                 0\n",
      "movie_title                  0\n",
      "num_voted_users              0\n",
      "cast_total_facebook_likes    0\n",
      "actor_3_name                 0\n",
      "facenumber_in_poster         0\n",
      "plot_keywords                0\n",
      "movie_imdb_link              0\n",
      "num_user_for_reviews         0\n",
      "language                     0\n",
      "country                      0\n",
      "content_rating               0\n",
      "budget                       0\n",
      "title_year                   0\n",
      "actor_2_facebook_likes       0\n",
      "imdb_score                   0\n",
      "aspect_ratio                 0\n",
      "movie_facebook_likes         0\n",
      "profit                       0\n",
      "roi                          0\n",
      "main_genre                   0\n",
      "dtype: int64\n"
     ]
    }
   ],
   "source": [
    "# Check cleaned data info\n",
    "print(df.info())\n",
    "\n",
    "# Check missing values after cleaning\n",
    "print(df.isnull().sum())\n",
    "\n",
    "# Save cleaned data to new CSV\n",
    "df.to_csv('cleaned_movie_metadata.csv', index=False)"
   ]
  },
  {
   "cell_type": "code",
   "execution_count": null,
   "id": "c7451a26-d903-46e0-9807-69a6f2718a42",
   "metadata": {},
   "outputs": [],
   "source": []
  }
 ],
 "metadata": {
  "kernelspec": {
   "display_name": "Python 3 (ipykernel)",
   "language": "python",
   "name": "python3"
  },
  "language_info": {
   "codemirror_mode": {
    "name": "ipython",
    "version": 3
   },
   "file_extension": ".py",
   "mimetype": "text/x-python",
   "name": "python",
   "nbconvert_exporter": "python",
   "pygments_lexer": "ipython3",
   "version": "3.12.7"
  }
 },
 "nbformat": 4,
 "nbformat_minor": 5
}
