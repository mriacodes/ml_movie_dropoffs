{
 "cells": [
  {
   "cell_type": "markdown",
   "id": "afbad64a",
   "metadata": {},
   "source": [
    "# Model Building and Evaluation"
   ]
  },
  {
   "cell_type": "markdown",
   "id": "5e672fe1",
   "metadata": {},
   "source": [
    "This notebook involves processes:\n",
    "    1. Data Balancing and Validation Preparation\n",
    "        - This process splits the final dataset into training and testing\n",
    "        - Applies SMOTE on the training set\n",
    "    2. Model Evaluation - involves experimentation of selected models to compare for model selection for the project\n",
    "\n",
    "This notebooks ensures that the project assesses possible methods for model accuracy in order to have a better movie engagement - dropoff predictions. "
   ]
  },
  {
   "cell_type": "code",
   "execution_count": null,
   "id": "198f9782",
   "metadata": {
    "vscode": {
     "languageId": "plaintext"
    }
   },
   "outputs": [],
   "source": [
    "# Install necessary packages\n",
    "\n",
    "import pandas as pd\n",
    "import numpy as np\n",
    "from sklearn.model_selection import train_test_split\n",
    "from sklearn.model_selection import cross_val_predict\n",
    "from sklearn.metrics import accuracy_score\n",
    "from sklearn.metrics import classification_report, confusion_matrix\n",
    "from sklearn.naive_bayes import GaussianNB\n",
    "from sklearn.neural_network import MLPClassifier\n",
    "import matplotlib.pyplot as plt\n"
   ]
  },
  {
   "cell_type": "markdown",
   "id": "3d1df8fa",
   "metadata": {},
   "source": [
    "## Data Balancing & Validation Prep"
   ]
  },
  {
   "cell_type": "markdown",
   "id": "98943f41",
   "metadata": {},
   "source": [
    "### Splitting into Training and Testing"
   ]
  },
  {
   "cell_type": "code",
   "execution_count": null,
   "id": "d125c414",
   "metadata": {
    "vscode": {
     "languageId": "plaintext"
    }
   },
   "outputs": [],
   "source": [
    "X2 = p_selected_df_rfe.copy() # this line may be modified according to the name dataframe (df)  \n",
    "X = X.copy()\n",
    "\n",
    "# Splitting X and y to training and testing dataset\n",
    "X_train, X_test, y_train, y_test = train_test_split(X, y, test_size=0.25)\n",
    "#X_train1, X_test1, y_train1, y_test1 = train_test_split(X1, y, test_size=0.25)\n",
    "#X_train11, X_test11, y_train11, y_test11 = train_test_split(X11, y, test_size=0.25)\n",
    "X_train2, X_test2, y_train2, y_test2 = train_test_split(X2, y, test_size=0.25)\n",
    "#X_train3, X_test3, y_train3, y_test3 = train_test_split(X3, y, test_size=0.25)\n",
    "print(len(X_train))\n",
    "print(len(X_test))"
   ]
  }
 ],
 "metadata": {
  "language_info": {
   "name": "python"
  }
 },
 "nbformat": 4,
 "nbformat_minor": 5
}
